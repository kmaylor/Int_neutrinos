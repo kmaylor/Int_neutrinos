{
 "cells": [
  {
   "cell_type": "code",
   "execution_count": 1,
   "metadata": {
    "collapsed": false
   },
   "outputs": [
    {
     "name": "stdout",
     "output_type": "stream",
     "text": [
      "Populating the interactive namespace from numpy and matplotlib\n"
     ]
    }
   ],
   "source": [
    "%pylab inline"
   ]
  },
  {
   "cell_type": "code",
   "execution_count": 4,
   "metadata": {
    "collapsed": false
   },
   "outputs": [
    {
     "name": "stdout",
     "output_type": "stream",
     "text": [
      "  analysing data from /home/kmaylor/int_neutrinos/Multinest_output/Plik/plik.txt\n",
      "  marginal likelihood:\n",
      "    ln Z = -126.6 +- 0.1\n",
      "  parameters:\n",
      "    log10_G_neff   -4.16 +- 0.62\n",
      "    tau            0.110 +- 0.031\n",
      "    ombh2          0.02238 +- 0.00028\n",
      "    omch2          0.1181 +- 0.0025\n",
      "    logA           3.252 +- 0.047\n",
      "    ns             0.9673 +- 0.0086\n",
      "    H0             68.7 +- 1.2\n",
      "    A_Planck       1.0000 +- 0.0024\n",
      "creating marginal plot ...\n"
     ]
    }
   ],
   "source": [
    "import numpy\n",
    "from numpy import exp, log\n",
    "import matplotlib.pyplot as plt\n",
    "import sys, os\n",
    "import json\n",
    "import pymultinest\n",
    "n_params=8\n",
    "parameters=['log10_G_neff','tau','ombh2','omch2','logA','ns','H0','A_Planck']\n",
    "prefix='/home/kmaylor/int_neutrinos/Multinest_output/Plik/plik'\n",
    "a = pymultinest.Analyzer(n_params = n_params, outputfiles_basename=prefix)\n",
    "s = a.get_stats()\n",
    "\n",
    "json.dump(s, open(prefix + 'stats.json', 'w'), indent=4)\n",
    "\n",
    "print('  marginal likelihood:')\n",
    "print('    ln Z = %.1f +- %.1f' % (s['global evidence'], s['global evidence error']))\n",
    "print('  parameters:')\n",
    "for p, m in zip(parameters, s['marginals']):\n",
    "\tlo, hi = m['1sigma']\n",
    "\tmed = m['median']\n",
    "\tsigma = (hi - lo) / 2\n",
    "\ti = max(0, int(-numpy.floor(numpy.log10(sigma))) + 1)\n",
    "\tfmt = '%%.%df' % i\n",
    "\tfmts = '\\t'.join(['    %-15s' + fmt + \" +- \" + fmt])\n",
    "\tprint(fmts % (p, med, sigma))\n",
    "\n",
    "print('creating marginal plot ...')\n",
    "p = pymultinest.PlotMarginal(a)\n",
    "\n",
    "values = a.get_equal_weighted_posterior()\n",
    "assert n_params == len(s['marginals'])\n",
    "modes = s['modes']\n",
    "dim2 = os.environ.get('D', '1' if n_params > 20 else '2') == '2'\n",
    "nbins = 100 if n_params < 3 else 20\n",
    "if dim2:\n",
    "\tplt.figure(figsize=(5*n_params, 5*n_params))\n",
    "\tfor i in range(n_params):\n",
    "\t\tplt.subplot(n_params, n_params, i + 1)\n",
    "\t\tplt.xlabel(parameters[i])\n",
    "\t\n",
    "\t\tm = s['marginals'][i]\n",
    "\t\tplt.xlim(m['5sigma'])\n",
    "\t\n",
    "\t\toldax = plt.gca()\n",
    "\t\tx,w,patches = oldax.hist(values[:,i], bins=nbins, edgecolor='grey', color='grey', histtype='stepfilled', alpha=0.2)\n",
    "\t\toldax.set_ylim(0, x.max())\n",
    "\t\n",
    "\t\tnewax = plt.gcf().add_axes(oldax.get_position(), sharex=oldax, frameon=False)\n",
    "\t\tp.plot_marginal(i, ls='-', color='blue', linewidth=3)\n",
    "\t\tnewax.set_ylim(0, 1)\n",
    "\t\n",
    "\t\tylim = newax.get_ylim()\n",
    "\t\ty = ylim[0] + 0.05*(ylim[1] - ylim[0])\n",
    "\t\tcenter = m['median']\n",
    "\t\tlow1, high1 = m['1sigma']\n",
    "\t\t#print(center, low1, high1)\n",
    "\t\tnewax.errorbar(x=center, y=y,\n",
    "\t\t\txerr=numpy.transpose([[center - low1, high1 - center]]), \n",
    "\t\t\tcolor='blue', linewidth=2, marker='s')\n",
    "\t\toldax.set_yticks([])\n",
    "\t\t#newax.set_yticks([])\n",
    "\t\tnewax.set_ylabel(\"Probability\")\n",
    "\t\tylim = oldax.get_ylim()\n",
    "\t\tnewax.set_xlim(m['5sigma'])\n",
    "\t\toldax.set_xlim(m['5sigma'])\n",
    "\t\t#plt.close()\n",
    "\t\n",
    "\t\tfor j in range(i):\n",
    "\t\t\tplt.subplot(n_params, n_params, n_params * (j + 1) + i + 1)\n",
    "\t\t\tp.plot_conditional(i, j, bins=20, cmap = plt.cm.gray_r)\n",
    "\t\t\tfor m in modes:\n",
    "\t\t\t\tplt.errorbar(x=m['mean'][i], y=m['mean'][j], xerr=m['sigma'][i], yerr=m['sigma'][j])\n",
    "\t\t\tplt.xlabel(parameters[i])\n",
    "\t\t\tplt.ylabel(parameters[j])\n",
    "\t\t\t#plt.savefig('cond_%s_%s.pdf' % (params[i], params[j]), bbox_tight=True)\n",
    "\t\t\t#plt.close()\n",
    "\n",
    "\tplt.savefig(prefix + 'marg.pdf')\n",
    "\tplt.savefig(prefix + 'marg.png')\n",
    "\tplt.close()\n",
    "else:\n",
    "\tfrom matplotlib.backends.backend_pdf import PdfPages\n",
    "\tsys.stderr.write('1dimensional only. Set the D environment variable \\n')\n",
    "\tsys.stderr.write('to D=2 to force 2d marginal plots.\\n')\n",
    "\tpp = PdfPages(prefix + 'marg1d.pdf')\n",
    "\t\n",
    "\tfor i in range(n_params):\n",
    "\t\tplt.figure(figsize=(3, 3))\n",
    "\t\tplt.xlabel(parameters[i])\n",
    "\t\tplt.locator_params(nbins=5)\n",
    "\t\t\n",
    "\t\tm = s['marginals'][i]\n",
    "\t\tiqr = m['q99%'] - m['q01%']\n",
    "\t\txlim = m['q01%'] - 0.3 * iqr, m['q99%'] + 0.3 * iqr\n",
    "\t\t#xlim = m['5sigma']\n",
    "\t\tplt.xlim(xlim)\n",
    "\t\n",
    "\t\toldax = plt.gca()\n",
    "\t\tx,w,patches = oldax.hist(values[:,i], bins=numpy.linspace(xlim[0], xlim[1], 20), edgecolor='grey', color='grey', histtype='stepfilled', alpha=0.2)\n",
    "\t\toldax.set_ylim(0, x.max())\n",
    "\t\n",
    "\t\tnewax = plt.gcf().add_axes(oldax.get_position(), sharex=oldax, frameon=False)\n",
    "\t\tp.plot_marginal(i, ls='-', color='blue', linewidth=3)\n",
    "\t\tnewax.set_ylim(0, 1)\n",
    "\t\n",
    "\t\tylim = newax.get_ylim()\n",
    "\t\ty = ylim[0] + 0.05*(ylim[1] - ylim[0])\n",
    "\t\tcenter = m['median']\n",
    "\t\tlow1, high1 = m['1sigma']\n",
    "\t\t#print center, low1, high1\n",
    "\t\tnewax.errorbar(x=center, y=y,\n",
    "\t\t\txerr=numpy.transpose([[center - low1, high1 - center]]), \n",
    "\t\t\tcolor='blue', linewidth=2, marker='s')\n",
    "\t\toldax.set_yticks([])\n",
    "\t\tnewax.set_ylabel(\"Probability\")\n",
    "\t\tylim = oldax.get_ylim()\n",
    "\t\tnewax.set_xlim(xlim)\n",
    "\t\toldax.set_xlim(xlim)\n",
    "\t\tplt.savefig(pp, format='pdf', bbox_inches='tight')\n",
    "\t\tplt.close()\n",
    "\tpp.close()"
   ]
  },
  {
   "cell_type": "code",
   "execution_count": 5,
   "metadata": {
    "collapsed": false
   },
   "outputs": [
    {
     "data": {
      "text/plain": [
       "1325"
      ]
     },
     "execution_count": 5,
     "metadata": {},
     "output_type": "execute_result"
    }
   ],
   "source": [
    "len(a.equal_weighted_posterior)"
   ]
  },
  {
   "cell_type": "code",
   "execution_count": null,
   "metadata": {
    "collapsed": true
   },
   "outputs": [],
   "source": []
  },
  {
   "cell_type": "code",
   "execution_count": 2,
   "metadata": {
    "collapsed": false
   },
   "outputs": [],
   "source": [
    "from Likelihoods.nest_plik import planck"
   ]
  },
  {
   "cell_type": "code",
   "execution_count": 3,
   "metadata": {
    "collapsed": false
   },
   "outputs": [
    {
     "name": "stderr",
     "output_type": "stream",
     "text": [
      "/nfs/home/kmaylor/Official_Planck_likelihoods_2015/plc-2.0/lib/python2.7/site-packages/clik/__init__.py:7: RuntimeWarning: numpy.dtype size changed, may indicate binary incompatibility. Expected 96, got 88\n",
      "/nfs/home/kmaylor/Official_Planck_likelihoods_2015/plc-2.0/lib/python2.7/site-packages/clik/__init__.py:12: RuntimeWarning: numpy.dtype size changed, may indicate binary incompatibility. Expected 96, got 88\n",
      "/nfs/home/kmaylor/.virtualenvs/Int_neurtinos/lib/python2.7/site-packages/pyfits/__init__.py:22: PyFITSDeprecationWarning: PyFITS is deprecated, please use astropy.io.fits\n",
      "  PyFITSDeprecationWarning)  # noqa\n"
     ]
    }
   ],
   "source": [
    "p=planck()"
   ]
  },
  {
   "cell_type": "code",
   "execution_count": 4,
   "metadata": {
    "collapsed": false
   },
   "outputs": [
    {
     "ename": "NameError",
     "evalue": "name 'loadtxt' is not defined",
     "output_type": "error",
     "traceback": [
      "\u001b[1;31m---------------------------------------------------------------------------\u001b[0m",
      "\u001b[1;31mNameError\u001b[0m                                 Traceback (most recent call last)",
      "\u001b[1;32m<ipython-input-4-fbf889f4c9e8>\u001b[0m in \u001b[0;36m<module>\u001b[1;34m()\u001b[0m\n\u001b[1;32m----> 1\u001b[1;33m \u001b[0mpp\u001b[0m\u001b[1;33m=\u001b[0m\u001b[0mloadtxt\u001b[0m\u001b[1;33m(\u001b[0m\u001b[1;34m'pliktxt'\u001b[0m\u001b[1;33m)\u001b[0m\u001b[1;33m\u001b[0m\u001b[0m\n\u001b[0m",
      "\u001b[1;31mNameError\u001b[0m: name 'loadtxt' is not defined"
     ]
    }
   ],
   "source": []
  },
  {
   "cell_type": "code",
   "execution_count": 8,
   "metadata": {
    "collapsed": false
   },
   "outputs": [
    {
     "name": "stderr",
     "output_type": "stream",
     "text": [
      "/nfs/home/kmaylor/.local/lib/python2.7/site-packages/ipython-3.0.0-py2.7.egg/IPython/kernel/__main__.py:1: RuntimeWarning: invalid value encountered in divide\n",
      "  if __name__ == '__main__':\n"
     ]
    },
    {
     "data": {
      "text/plain": [
       "[<matplotlib.lines.Line2D at 0x7f1c0fd66a50>]"
      ]
     },
     "execution_count": 8,
     "metadata": {},
     "output_type": "execute_result"
    },
    {
     "data": {
      "image/png": "[encoded data removed]",
      "text/plain": [
       "<Figure size 600x400 with 1 Axes>"
      ]
     },
     "metadata": {},
     "output_type": "display_data"
    }
   ],
   "source": [
    "plot(p.cmb_result['cl_TT']/pp-1)"
   ]
  },
  {
   "cell_type": "code",
   "execution_count": 1,
   "metadata": {
    "collapsed": true
   },
   "outputs": [],
   "source": [
    "param_names = ['cosmo.log10_G_neff','cosmo.tau','cosmo.ombh2','cosmo.omch2','cosmo.logA','cosmo.ns','cosmo.H0','high_l.A_Planck']\n",
    "map_params = lambda x: dict(zip(param_names,x))\n",
    "        "
   ]
  },
  {
   "cell_type": "code",
   "execution_count": 2,
   "metadata": {
    "collapsed": false
   },
   "outputs": [
    {
     "name": "stderr",
     "output_type": "stream",
     "text": [
      "/nfs/home/kmaylor/.virtualenvs/Int_neurtinos/lib/python2.7/site-packages/scipy/spatial/__init__.py:95: RuntimeWarning: numpy.dtype size changed, may indicate binary incompatibility. Expected 96, got 88\n",
      "  from .ckdtree import *\n",
      "/nfs/home/kmaylor/.virtualenvs/Int_neurtinos/lib/python2.7/site-packages/scipy/spatial/__init__.py:96: RuntimeWarning: numpy.dtype size changed, may indicate binary incompatibility. Expected 96, got 88\n",
      "  from .qhull import *\n"
     ]
    }
   ],
   "source": [
    "from cosmoslik import *"
   ]
  },
  {
   "cell_type": "code",
   "execution_count": 3,
   "metadata": {
    "collapsed": false
   },
   "outputs": [],
   "source": [
    "from Likelihoods.planck_lik import planck"
   ]
  },
  {
   "cell_type": "code",
   "execution_count": 4,
   "metadata": {
    "collapsed": false
   },
   "outputs": [
    {
     "name": "stderr",
     "output_type": "stream",
     "text": [
      "/nfs/home/kmaylor/Official_Planck_likelihoods_2015/plc-2.0/lib/python2.7/site-packages/clik/__init__.py:7: RuntimeWarning: numpy.dtype size changed, may indicate binary incompatibility. Expected 96, got 88\n",
      "/nfs/home/kmaylor/Official_Planck_likelihoods_2015/plc-2.0/lib/python2.7/site-packages/clik/__init__.py:12: RuntimeWarning: numpy.dtype size changed, may indicate binary incompatibility. Expected 96, got 88\n",
      "/nfs/home/kmaylor/.virtualenvs/Int_neurtinos/lib/python2.7/site-packages/pyfits/__init__.py:22: PyFITSDeprecationWarning: PyFITS is deprecated, please use astropy.io.fits\n",
      "  PyFITSDeprecationWarning)  # noqa\n"
     ]
    }
   ],
   "source": [
    "pp=planck()"
   ]
  },
  {
   "cell_type": "code",
   "execution_count": 5,
   "metadata": {
    "collapsed": false
   },
   "outputs": [],
   "source": [
    "pslik=Slik(pp)"
   ]
  },
  {
   "cell_type": "code",
   "execution_count": 6,
   "metadata": {
    "collapsed": false
   },
   "outputs": [
    {
     "name": "stdout",
     "output_type": "stream",
     "text": [
      "{'tau': 0.08, 'G_neff': 1, 'omk': 0, 'logA': 3.203, 'massless_neutrinos': 0.0, 'omch2': 0.1203, 'massive_neutrinos': 3.046, 'int_nu_f': 1, 'log10_G_neff': 0, 'H0': 67.79, 'omnuh2': 0, 'nrun': 0, 'As': 2.460623829456579e-09, 'w': -1, 'pivot_scalar': 0.05, 'Yp': 0.24810472217800617, 'model': 'lcdm', 'ns': 0.9665, 'ombh2': 0.02227, 'l_max_scalar': 4000}\n",
      "{'massive_nu_approx': '1', 'FITS_filename': 'scalCls.fits', 'nu_mass_eigenstates': '1', 'scalar_output_file': 'scalCls.dat', 'do_nonlinear': 0, 'bispectrum_delta(1)': '0', 'accurate_reionization': 'T', 'lensing_method': '1', 'massless_neutrinos': 0.0, 'initial_power_num': '1', 'l_accuracy_boost': '1', 'transfer_high_precision': 'T', 'COBE_normalize': 'F', 'bispectrum_fisher_noise': '0', 'nu_mass_degeneracies': '0', 'transfer_interp_matterpower': 'F', 'do_lensing_bispectrum': 'F', 'omnuh2': 0, 'lensed_output_file': 'lensedCls.dat', 'accuracy_boost': '1', 'bispectrum_nfields': '1', 'temp_cmb': '2.7255', 'transfer_matterpower(1)': 'matterpower.dat', 'pivot_tensor': '0.05', 're_ionization_frac': '-1', 'bispectrum_delta(2)': '2', 'get_scalar_cls': True, 'lensed_total_output_file': 'lensedtotCls.dat', 're_delta_redshift': '1.5', 'CMB_outputscale': '7.42835025e12', 'bispectrum_full_output_sparse': 'F', 'scalar_nrun(1)': 0, 'transfer_num_redshifts': '1', 'get_transfer': False, 'omch2': 0.1203, 'get_vector_cls': 'F', 'interacting_fraction': 1, 'accurate_polarization': 'T', 'initial_vector': '-1 0 0 0 0', 'high_accuracy_default': 'T', 'initial_condition': '1', 'bispectrum_export_alpha_beta': 'F', 'output_root': 'test2', 'vector_output_file': 'vecCls.dat', 'r': 0, 'Alens': 1, 'l_max_scalar': 4000, 'RECFAST_Heswitch': '6', 'scalar_amp(1)': 2.460623829456579e-09, 'bispectrum_fisher_fwhm_arcmin': '7', 'bispectrum_full_output_file': '', 'get_tensor_cls': False, 'reionization': 'T', 'bispectrum_fisher_noise_pol': '0', 'helium_fraction': 0.24810472217800617, 'cs2_lam': '1', 'accurate_BB': 'F', 're_use_optical_depth': 'T', 'transfer_k_per_logint': '0', 'massive_neutrinos': 3.046, 'scalar_spectral_index(1)': 0.9665, 'G_nu_eff': 1, 're_redshift': '11', 'total_output_file': 'totCls.dat', 'l_sample_boost': '1', 'feedback_level': '2', 'RECFAST_fudge_He': '0.86', 'l_max_tensor': 3000, 'bispectrum_ndelta': '3', 'do_lensing': True, 'bispectrum_do_fisher': 'F', 'transfer_redshift(1)': '0.0', 'pivot_scalar': 0.05, 'vector_mode': '0', 'do_primordial_bispectrum': 'F', 'ombh2': 0.02227, 'do_late_rad_truncation': 'T', 'HighLExtrapTemplate': '/home/kmaylor/int_neutrinos/cosmoslik/cosmoslik_plugins/models/camb/camb/HighLExtrapTemplate_lenspotentialCls.dat', 'transfer_filename(1)': 'transfer_out.dat', 'lens_potential_output_file': 'lenspotentialCls.dat', 'number_of_threads': '0', 'wa': '0', 'k_eta_max_tensor': '3000', 'omk': 0, 'tensor_spectral_index(1)': '0', 'do_tensor_neutrinos': 'T', 'bispectrum_slice_base_L': '0', 'RECFAST_Hswitch': 'T', 'hubble': 67.79, 'transfer_kmax': '1', 'use_physical': 'T', 'RECFAST_fudge': '1.14', 'nu_mass_fractions': '1', 're_optical_depth': 0.08, 'w': -1, 'bispectrum_delta(3)': '4', 'tensor_output_file': 'tensCls.dat', 'initial_ratio(1)': '0.0', 'derived_parameters': 'T'}\n"
     ]
    }
   ],
   "source": [
    "pars=map_params([0,0.080,0.02227,0.1203,3.203,0.9665,67.79,1.0003])\n",
    "lnl, fit_line_eval = pslik.evaluate(**pars)"
   ]
  },
  {
   "cell_type": "code",
   "execution_count": 3,
   "metadata": {
    "collapsed": false
   },
   "outputs": [
    {
     "name": "stdout",
     "output_type": "stream",
     "text": [
      "{'massive_nu_approx': '1', 'FITS_filename': 'scalCls.fits', 'nu_mass_eigenstates': '1', 'scalar_output_file': 'scalCls.dat', 'do_nonlinear': 0, 'bispectrum_delta(1)': '0', 'accurate_reionization': 'T', 'lensing_method': '1', 'massless_neutrinos': 0.0, 'initial_power_num': '1', 'l_accuracy_boost': '1', 'transfer_high_precision': 'T', 'COBE_normalize': 'F', 'bispectrum_fisher_noise': '0', 'nu_mass_degeneracies': '0', 'transfer_interp_matterpower': 'F', 'do_lensing_bispectrum': 'F', 'omnuh2': 0.000645, 'lensed_output_file': 'lensedCls.dat', 'accuracy_boost': '1', 'bispectrum_nfields': '1', 'temp_cmb': '2.7255', 'transfer_matterpower(1)': 'matterpower.dat', 'pivot_tensor': '0.05', 're_ionization_frac': '-1', 'bispectrum_delta(2)': '2', 'get_scalar_cls': True, 'lensed_total_output_file': 'lensedtotCls.dat', 're_delta_redshift': '1.5', 'CMB_outputscale': '7.42835025e12', 'bispectrum_full_output_sparse': 'F', 'scalar_nrun(1)': 0, 'transfer_num_redshifts': '1', 'get_transfer': False, 'omch2': 0.1203, 'get_vector_cls': 'F', 'interacting_fraction': 1, 'accurate_polarization': 'T', 'initial_vector': '-1 0 0 0 0', 'high_accuracy_default': 'T', 'initial_condition': '1', 'bispectrum_export_alpha_beta': 'F', 'output_root': 'test2', 'vector_output_file': 'vecCls.dat', 'r': 0, 'Alens': 1, 'l_max_scalar': 3000, 'RECFAST_Heswitch': '6', 'scalar_amp(1)': 2.460623829456579e-09, 'bispectrum_fisher_fwhm_arcmin': '7', 'bispectrum_full_output_file': '', 'get_tensor_cls': False, 'reionization': 'T', 'bispectrum_fisher_noise_pol': '0', 'helium_fraction': 0.248, 'cs2_lam': '1', 'accurate_BB': 'F', 're_use_optical_depth': 'T', 'transfer_k_per_logint': '0', 'massive_neutrinos': 3.046, 'scalar_spectral_index(1)': 0.9665, 'G_nu_eff': 1, 're_redshift': '11', 'total_output_file': 'totCls.dat', 'l_sample_boost': '1', 'feedback_level': '2', 'RECFAST_fudge_He': '0.86', 'l_max_tensor': 3000, 'bispectrum_ndelta': '3', 'do_lensing': True, 'bispectrum_do_fisher': 'F', 'transfer_redshift(1)': '0.0', 'pivot_scalar': 0.002, 'vector_mode': '0', 'do_primordial_bispectrum': 'F', 'ombh2': 0.02227, 'do_late_rad_truncation': 'T', 'HighLExtrapTemplate': '/nfs/home/kmaylor/int_neutrinos/Nest/models/camb/camb/HighLExtrapTemplate_lenspotentialCls.dat', 'transfer_filename(1)': 'transfer_out.dat', 'lens_potential_output_file': 'lenspotentialCls.dat', 'number_of_threads': '0', 'wa': '0', 'k_eta_max_tensor': '3000', 'omk': 0, 'tensor_spectral_index(1)': '0', 'do_tensor_neutrinos': 'T', 'bispectrum_slice_base_L': '0', 'RECFAST_Hswitch': 'T', 'hubble': 67.79, 'transfer_kmax': '1', 'use_physical': 'T', 'RECFAST_fudge': '1.14', 'nu_mass_fractions': '1', 're_optical_depth': 0.08, 'w': -1, 'bispectrum_delta(3)': '4', 'tensor_output_file': 'tensCls.dat', 'initial_ratio(1)': '0.0', 'derived_parameters': 'T'}\n",
      "-109.72850510916425\n"
     ]
    },
    {
     "data": {
      "text/plain": [
       "-109.72850510916425"
      ]
     },
     "execution_count": 3,
     "metadata": {},
     "output_type": "execute_result"
    }
   ],
   "source": [
    "p.LogLikelihood([0,0.080,0.02227,0.1203,3.203,0.9665,67.79,1.0003])"
   ]
  },
  {
   "cell_type": "code",
   "execution_count": 9,
   "metadata": {
    "collapsed": false
   },
   "outputs": [
    {
     "data": {
      "text/plain": [
       "23768.167402493884"
      ]
     },
     "execution_count": 9,
     "metadata": {},
     "output_type": "execute_result"
    }
   ],
   "source": [
    "lnl"
   ]
  },
  {
   "cell_type": "code",
   "execution_count": 12,
   "metadata": {
    "collapsed": false
   },
   "outputs": [],
   "source": [
    "with open('pliktxt','wb') as f:\n",
    "    savetxt(f,pp.get_cmb(0.02227,0.1203,67.79,exp(3.203)*1e-10,0.9665,0.080,G_neff=10**0,outputs=['cl_TT'])['cl_TT'])"
   ]
  },
  {
   "cell_type": "code",
   "execution_count": 31,
   "metadata": {
    "collapsed": false
   },
   "outputs": [
    {
     "ename": "NameError",
     "evalue": "name 'pliktxt' is not defined",
     "output_type": "error",
     "traceback": [
      "\u001b[1;31m---------------------------------------------------------------------------\u001b[0m",
      "\u001b[1;31mNameError\u001b[0m                                 Traceback (most recent call last)",
      "\u001b[1;32m<ipython-input-31-95dcc1ecb11c>\u001b[0m in \u001b[0;36m<module>\u001b[1;34m()\u001b[0m\n\u001b[1;32m----> 1\u001b[1;33m \u001b[0msavetxt\u001b[0m\u001b[1;33m(\u001b[0m\u001b[0mpliktxt\u001b[0m\u001b[1;33m,\u001b[0m\u001b[0mpp\u001b[0m\u001b[1;33m.\u001b[0m\u001b[0mget_cmb\u001b[0m\u001b[1;33m(\u001b[0m\u001b[1;36m0.02227\u001b[0m\u001b[1;33m,\u001b[0m\u001b[1;36m0.1203\u001b[0m\u001b[1;33m,\u001b[0m\u001b[1;36m67.79\u001b[0m\u001b[1;33m,\u001b[0m\u001b[0mexp\u001b[0m\u001b[1;33m(\u001b[0m\u001b[1;36m3.203\u001b[0m\u001b[1;33m)\u001b[0m\u001b[1;33m*\u001b[0m\u001b[1;36m1e-10\u001b[0m\u001b[1;33m,\u001b[0m\u001b[1;36m0.9665\u001b[0m\u001b[1;33m,\u001b[0m\u001b[1;36m0.080\u001b[0m\u001b[1;33m,\u001b[0m\u001b[0mG_neff\u001b[0m\u001b[1;33m=\u001b[0m\u001b[1;36m10\u001b[0m\u001b[1;33m**\u001b[0m\u001b[1;33m-\u001b[0m\u001b[1;36m5\u001b[0m\u001b[1;33m,\u001b[0m\u001b[0moutputs\u001b[0m\u001b[1;33m=\u001b[0m\u001b[1;33m[\u001b[0m\u001b[1;34m'cl_TT'\u001b[0m\u001b[1;33m]\u001b[0m\u001b[1;33m)\u001b[0m\u001b[1;33m[\u001b[0m\u001b[1;34m'cl_TT'\u001b[0m\u001b[1;33m]\u001b[0m\u001b[1;33m)\u001b[0m\u001b[1;33m\u001b[0m\u001b[0m\n\u001b[0m",
      "\u001b[1;31mNameError\u001b[0m: name 'pliktxt' is not defined"
     ]
    }
   ],
   "source": []
  },
  {
   "cell_type": "code",
   "execution_count": 13,
   "metadata": {
    "collapsed": false
   },
   "outputs": [
    {
     "name": "stderr",
     "output_type": "stream",
     "text": [
      "/nfs/home/kmaylor/.virtualenvs/Int_neurtinos/lib/python2.7/site-packages/matplotlib/axes/_base.py:3477: UserWarning: Attempted to set non-positive ylimits for log-scale axis; invalid limits will be ignored.\n",
      "  'Attempted to set non-positive ylimits for log-scale axis; '\n"
     ]
    },
    {
     "data": {
      "text/plain": [
       "(31.811, 6000)"
      ]
     },
     "execution_count": 13,
     "metadata": {},
     "output_type": "execute_result"
    },
    {
     "data": {
      "image/png": "[encoded data removed]",
      "text/plain": [
       "<Figure size 600x400 with 1 Axes>"
      ]
     },
     "metadata": {},
     "output_type": "display_data"
    }
   ],
   "source": [
    "semilogy(loadtxt('pliktxt'))\n",
    "ylim(0,6000)"
   ]
  },
  {
   "cell_type": "code",
   "execution_count": null,
   "metadata": {
    "collapsed": true
   },
   "outputs": [],
   "source": []
  }
 ],
 "metadata": {
  "kernelspec": {
   "display_name": "Python 2",
   "language": "python",
   "name": "python2"
  },
  "language_info": {
   "codemirror_mode": {
    "name": "ipython",
    "version": 2
   },
   "file_extension": ".py",
   "mimetype": "text/x-python",
   "name": "python",
   "nbconvert_exporter": "python",
   "pygments_lexer": "ipython2",
   "version": "2.7.6"
  }
 },
 "nbformat": 4,
 "nbformat_minor": 0
}
