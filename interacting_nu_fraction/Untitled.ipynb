{
 "cells": [
  {
   "cell_type": "code",
   "execution_count": 1,
   "metadata": {},
   "outputs": [],
   "source": [
    "import subprocess"
   ]
  },
  {
   "cell_type": "code",
   "execution_count": 4,
   "metadata": {},
   "outputs": [
    {
     "data": {
      "text/plain": [
       "b'(w0, wa) = (-1.00000,  0.00000)\\nReion redshift       =  10.060\\nIntegrated opt depth =  0.0790\\nOm_b h^2             =  0.022250\\nOm_c h^2             =  0.119800\\nOm_nu h^2            =  0.000000\\nOm_Lambda            =  0.686095\\nOm_K                 =  0.000000\\nOm_m (1-Om_K-Om_L)   =  0.313905\\n100 theta (CosmoMC)  =  1.039223\\n z_nu_dec =    90721.800462956831     \\n   5.0619278131220664        1.8920831901617860E-003\\n tight_tau_nu =   0.30261034904034129     \\n dec_tau_nu, z_dec_nu =    1.7577560706563027        262835.39092158410     \\nReion opt depth      =  0.0790\\nAge of universe/GYr  =  13.831\\nzstar                =  1090.05\\nr_s(zstar)/Mpc       =  144.58\\n100*theta            =  1.039393\\nzdrag                =  1059.63\\nr_s(zdrag)/Mpc       =  147.28\\nk_D(zstar) Mpc       =  0.1406\\n100*theta_D          =  0.160674\\nz_EQ (if v_nu=1)     =  3394.31\\n100*theta_EQ         =  0.812993\\ntau_recomb/Mpc       =  280.82  tau_now/Mpc =  14190.6\\n'"
      ]
     },
     "execution_count": 4,
     "metadata": {},
     "output_type": "execute_result"
    }
   ],
   "source": [
    "subprocess.check_output(['./camb','params.ini'])"
   ]
  },
  {
   "cell_type": "code",
   "execution_count": null,
   "metadata": {},
   "outputs": [],
   "source": []
  }
 ],
 "metadata": {
  "kernelspec": {
   "display_name": "Python 3",
   "language": "python",
   "name": "python3"
  },
  "language_info": {
   "codemirror_mode": {
    "name": "ipython",
    "version": 3
   },
   "file_extension": ".py",
   "mimetype": "text/x-python",
   "name": "python",
   "nbconvert_exporter": "python",
   "pygments_lexer": "ipython3",
   "version": "3.4.3"
  }
 },
 "nbformat": 4,
 "nbformat_minor": 2
}
